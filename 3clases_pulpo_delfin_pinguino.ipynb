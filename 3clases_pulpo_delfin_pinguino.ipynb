{
  "nbformat": 4,
  "nbformat_minor": 0,
  "metadata": {
    "colab": {
      "provenance": [],
      "collapsed_sections": [],
      "include_colab_link": true
    },
    "kernelspec": {
      "name": "python3",
      "display_name": "Python 3"
    },
    "accelerator": "GPU"
  },
  "cells": [
    {
      "cell_type": "markdown",
      "metadata": {
        "id": "view-in-github",
        "colab_type": "text"
      },
      "source": [
        "<a href=\"https://colab.research.google.com/github/AlfaLachidua/MNIST_FCQ/blob/main/3clases_pulpo_delfin_pinguino.ipynb\" target=\"_parent\"><img src=\"https://colab.research.google.com/assets/colab-badge.svg\" alt=\"Open In Colab\"/></a>"
      ]
    },
    {
      "cell_type": "code",
      "metadata": {
        "id": "c4R_A0gjb7fn"
      },
      "source": [
        "pip install keras streamlit pillow numpy"
      ],
      "execution_count": null,
      "outputs": []
    },
    {
      "cell_type": "code",
      "metadata": {
        "id": "qRQMMZ5qDI_E"
      },
      "source": [
        "pip -q install streamlit"
      ],
      "execution_count": null,
      "outputs": []
    },
    {
      "cell_type": "markdown",
      "metadata": {
        "id": "6PlldTc9R_pb"
      },
      "source": [
        "If you want to use your own model from Teachable Machine, just upload the `keras_model.h5` file."
      ]
    },
    {
      "cell_type": "code",
      "metadata": {
        "id": "EWNoDAg90hYc"
      },
      "source": [
        "!wget https://github.com/napoles-uach/streamlit_apps/raw/main/Streamlit_Colab/Models/Dog_Cat.h5\n",
        "!mv Dog_Cat.h5 keras_model.h5"
      ],
      "execution_count": null,
      "outputs": []
    },
    {
      "cell_type": "markdown",
      "metadata": {
        "id": "Pjl8MssXasJF"
      },
      "source": [
        "The following is the `app.py` base code. It can be modified in the cell or in the folder to the left."
      ]
    },
    {
      "cell_type": "code",
      "metadata": {
        "id": "nrI8dgogDf5b"
      },
      "source": [
        "%%writefile app.py\n",
        "#########app.py del modelo ML_Streamlit_Colab\n",
        "#el llamado a la librería streamlit con el alias st\n",
        "import streamlit as st \n",
        "#hacemos el llamado a la función\n",
        "from img_classification import teachable_machine_classification \n",
        "import keras\n",
        "from PIL import Image, ImageOps\n",
        "import numpy as np\n",
        "#le ponemos un título a nuestra aplicación\n",
        "st.title('Clasificando Vida Marina')\n",
        "#le voy a decir que tipos de archivos está recibiendo:\n",
        "uploaded_file = st.file_uploader(\"Carga una imagen ...\", type=[\"jpg\",\"jpeg\"])\n",
        "#si el contenido no está vacío, se va a leer con el comando image\n",
        "if uploaded_file is not None:\n",
        "  image = Image.open(uploaded_file)\n",
        "  #le voy a decir que me despliegue en la página la misma imagen\n",
        "  st.sidebar.image(image)\n",
        "  #aquí estoy llamando la función teachable machine, va a leer la imagen e importar el modelo keras\n",
        "  #la salida de esta función va a ser una etiqueta 0 si es un perro, 1 si es un gato\n",
        "  label = teachable_machine_classification(image, 'keras_model.h5')\n",
        "  if label == 0:\n",
        "    st.write('Es un delfín') \n",
        "\n",
        "  elif label == 1:\n",
        "      st.write('Es un pinguino') \n",
        "\n",
        "  else:\n",
        "    st.write('Es un pulpo')\n"
      ],
      "execution_count": null,
      "outputs": []
    },
    {
      "cell_type": "code",
      "metadata": {
        "id": "Xj_O4Cbob18M"
      },
      "source": [
        "%%writefile img_classification.py\n",
        "import tensorflow.keras\n",
        "from PIL import Image, ImageOps\n",
        "import numpy as np\n",
        "\n",
        "\n",
        "def teachable_machine_classification(img, weights_file):\n",
        "    # Load the model\n",
        "    model = tensorflow.keras.models.load_model(weights_file)\n",
        "\n",
        "    # Create the array of the right shape to feed into the keras model\n",
        "    data = np.ndarray(shape=(1, 224, 224, 3), dtype=np.float32)\n",
        "    image = img\n",
        "    #image sizing\n",
        "    size = (224, 224)\n",
        "    image = ImageOps.fit(image, size, Image.ANTIALIAS)\n",
        "\n",
        "    #turn the image into a numpy array\n",
        "    image_array = np.asarray(image)\n",
        "    # Normalize the image\n",
        "    normalized_image_array = (image_array.astype(np.float32) / 127.0) - 1\n",
        "\n",
        "    # Load the image into the array\n",
        "    data[0] = normalized_image_array  # (Not sure if this is needed, but gives an error!!!)\n",
        "\n",
        "    # run the inference\n",
        "    prediction = model.predict(data)\n",
        "    return np.argmax(prediction) # return position of the highest probability"
      ],
      "execution_count": null,
      "outputs": []
    },
    {
      "cell_type": "markdown",
      "metadata": {
        "id": "x78MWzB6bF_A"
      },
      "source": [
        "This last cell would keep the app running. If stoped, the app woul be disconnected."
      ]
    },
    {
      "cell_type": "code",
      "source": [
        "!streamlit run app.py & npx localtunnel --port 8501"
      ],
      "metadata": {
        "id": "0HkAi3UOFVF5",
        "colab": {
          "base_uri": "https://localhost:8080/"
        },
        "outputId": "40ee4391-80bc-4c00-9398-7090df247290"
      },
      "execution_count": null,
      "outputs": [
        {
          "metadata": {
            "tags": null
          },
          "name": "stdout",
          "output_type": "stream",
          "text": [
            "2022-10-20 15:26:13.961 INFO    numexpr.utils: NumExpr defaulting to 2 threads.\n",
            "\n",
            "Collecting usage statistics. To deactivate, set browser.gatherUsageStats to False.\n",
            "\u001b[0m\n",
            "\u001b[0m\n",
            "\u001b[34m\u001b[1m  You can now view your Streamlit app in your browser.\u001b[0m\n",
            "\u001b[0m\n",
            "\u001b[34m  Network URL: \u001b[0m\u001b[1mhttp://172.28.0.2:8501\u001b[0m\n",
            "\u001b[34m  External URL: \u001b[0m\u001b[1mhttp://34.90.174.37:8501\u001b[0m\n",
            "\u001b[0m\n",
            "\u001b[K\u001b[?25hnpx: installed 22 in 2.278s\n",
            "your url is: https://bright-paths-visit-34-90-174-37.loca.lt\n"
          ]
        }
      ]
    }
  ]
}